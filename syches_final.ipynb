{
 "cells": [
  {
   "cell_type": "code",
   "execution_count": 76,
   "outputs": [],
   "source": [
    "import pandas as pd\n",
    "import numpy as np\n",
    "from glob import glob\n",
    "import matplotlib.pyplot as plt\n",
    "\n",
    "plt.style.use('ggplot')"
   ],
   "metadata": {
    "collapsed": false,
    "ExecuteTime": {
     "end_time": "2023-08-26T20:53:41.477148Z",
     "start_time": "2023-08-26T20:53:40.329823Z"
    }
   }
  },
  {
   "cell_type": "markdown",
   "source": [
    "находим изображения"
   ],
   "metadata": {
    "collapsed": false
   }
  },
  {
   "cell_type": "code",
   "execution_count": 77,
   "outputs": [],
   "source": [
    "relative_path = \"/Users/daria/Downloads/hak2023-main/Data/zn/images/*\"\n",
    "\n",
    "imgs_path = glob(relative_path)"
   ],
   "metadata": {
    "collapsed": false,
    "ExecuteTime": {
     "end_time": "2023-08-26T20:53:41.494520Z",
     "start_time": "2023-08-26T20:53:41.478951Z"
    }
   }
  },
  {
   "cell_type": "markdown",
   "source": [
    "для тестов возьмем 5 адресов"
   ],
   "metadata": {
    "collapsed": false
   }
  },
  {
   "cell_type": "code",
   "execution_count": 78,
   "outputs": [
    {
     "data": {
      "text/plain": "['/Users/daria/Downloads/hak2023-main/Data/zn/images/bbb2ec82-ab95-42f9-be90-58c0e35c653c.png',\n '/Users/daria/Downloads/hak2023-main/Data/zn/images/8a7a366c-ae97-45ad-87c4-0f6487b8e9ba.png',\n '/Users/daria/Downloads/hak2023-main/Data/zn/images/74f4b236-c1a7-45a6-b11a-2d5ab5325db3.png',\n '/Users/daria/Downloads/hak2023-main/Data/zn/images/3e9053a6-c5c3-4b21-815a-fb7fdf758150.png',\n '/Users/daria/Downloads/hak2023-main/Data/zn/images/0578d9d6-0353-4a1c-9fad-91e1f2d9864e.png']"
     },
     "execution_count": 78,
     "metadata": {},
     "output_type": "execute_result"
    }
   ],
   "source": [
    "imgs_path = imgs_path[:5]\n",
    "imgs_path"
   ],
   "metadata": {
    "collapsed": false,
    "ExecuteTime": {
     "end_time": "2023-08-26T20:53:41.515101Z",
     "start_time": "2023-08-26T20:53:41.489985Z"
    }
   }
  },
  {
   "cell_type": "markdown",
   "source": [
    "(раскомм.) изобразить первые 20"
   ],
   "metadata": {
    "collapsed": false
   }
  },
  {
   "cell_type": "code",
   "execution_count": 79,
   "outputs": [],
   "source": [
    "# fig, axs = plt.subplots(20, 1, figsize=(50, 100))\n",
    "# axs = axs.flatten()\n",
    "# \n",
    "# imgs_to_print = len(imgs_path) if len(imgs_path) < 20 else 20\n",
    "# \n",
    "# for i in range(imgs_to_print):\n",
    "#     axs[i].imshow(plt.imread(imgs_path[i]))\n",
    "#     axs[i].axis('off')\n",
    "#     axs[i].set_title(imgs_path[i].split('/')[-1])\n",
    "# plt.show()"
   ],
   "metadata": {
    "collapsed": false,
    "ExecuteTime": {
     "end_time": "2023-08-26T20:53:41.565871Z",
     "start_time": "2023-08-26T20:53:41.500109Z"
    }
   }
  },
  {
   "cell_type": "markdown",
   "source": [
    "указываем платформу"
   ],
   "metadata": {
    "collapsed": false
   }
  },
  {
   "cell_type": "code",
   "execution_count": 80,
   "outputs": [],
   "source": [
    "platforms_dict = {'tg': 0, 'vk': 1, 'yt1': 2, 'yt2': 3, 'zn': 4}\n",
    "\n",
    "platform = platforms_dict['zn']"
   ],
   "metadata": {
    "collapsed": false,
    "ExecuteTime": {
     "end_time": "2023-08-26T20:53:41.586399Z",
     "start_time": "2023-08-26T20:53:41.510758Z"
    }
   }
  },
  {
   "cell_type": "markdown",
   "source": [
    "детектим текст"
   ],
   "metadata": {
    "collapsed": false
   }
  },
  {
   "cell_type": "code",
   "execution_count": 81,
   "outputs": [
    {
     "name": "stderr",
     "output_type": "stream",
     "text": [
      "Neither CUDA nor MPS are available - defaulting to CPU. Note: This module is much faster with a GPU.\n"
     ]
    }
   ],
   "source": [
    "import easyocr\n",
    "\n",
    "reader = easyocr.Reader(['ru'], gpu = True)"
   ],
   "metadata": {
    "collapsed": false,
    "ExecuteTime": {
     "end_time": "2023-08-26T20:53:45.741895Z",
     "start_time": "2023-08-26T20:53:41.518202Z"
    }
   }
  },
  {
   "cell_type": "markdown",
   "source": [
    "заведем массив содержащий имя файла и данные об обнаруженном тексте (~13сек/изображение)"
   ],
   "metadata": {
    "collapsed": false
   }
  },
  {
   "cell_type": "code",
   "execution_count": 82,
   "outputs": [
    {
     "name": "stdout",
     "output_type": "stream",
     "text": [
      "/Users/daria/Downloads/hak2023-main/Data/zn/images/bbb2ec82-ab95-42f9-be90-58c0e35c653c.png\n",
      "/Users/daria/Downloads/hak2023-main/Data/zn/images/8a7a366c-ae97-45ad-87c4-0f6487b8e9ba.png\n",
      "/Users/daria/Downloads/hak2023-main/Data/zn/images/74f4b236-c1a7-45a6-b11a-2d5ab5325db3.png\n",
      "/Users/daria/Downloads/hak2023-main/Data/zn/images/3e9053a6-c5c3-4b21-815a-fb7fdf758150.png\n",
      "/Users/daria/Downloads/hak2023-main/Data/zn/images/0578d9d6-0353-4a1c-9fad-91e1f2d9864e.png\n"
     ]
    }
   ],
   "source": [
    "imgs_data = pd.DataFrame(columns = [\"name\", \"data\"])\n",
    "\n",
    "for i in range(len(imgs_path)):\n",
    "    print(imgs_path[i])\n",
    "    img_path = imgs_path[i]\n",
    "    img_detect = pd.DataFrame(reader.readtext(img_path), columns=[\"bbox\", \"text\", \"conf\"])\n",
    "    img_name = img_path.split('/')[-1]\n",
    "\n",
    "    imgs_data.loc[len(imgs_data)] = {\"name\": img_name, \"data\": img_detect}"
   ],
   "metadata": {
    "collapsed": false,
    "ExecuteTime": {
     "end_time": "2023-08-26T20:53:45.747028Z",
     "start_time": "2023-08-26T20:53:45.742581Z"
    }
   }
  },
  {
   "cell_type": "markdown",
   "source": [
    "в зависимости от выбранной платформы выбираем функцию для обработки"
   ],
   "metadata": {
    "collapsed": false
   }
  },
  {
   "cell_type": "markdown",
   "source": [
    "вспомогательные функции"
   ],
   "metadata": {
    "collapsed": false
   }
  },
  {
   "cell_type": "code",
   "execution_count": 83,
   "outputs": [],
   "source": [
    "def find_strings_with_percent(strings):\n",
    "    result = []\n",
    "\n",
    "    for s in strings:\n",
    "        if \"%\" in s:\n",
    "            result.append(s)\n",
    "\n",
    "    return result\n",
    "\n",
    "import math\n",
    "def find_rectangle_center(vertices):\n",
    "    x_sum = 0\n",
    "    y_sum = 0\n",
    "    #print(\"f_r_c, vertices:\", vertices)\n",
    "    num_vertices = len(vertices)\n",
    "\n",
    "    for vertex in vertices:\n",
    "        x_sum += vertex[0]\n",
    "        y_sum += vertex[1]\n",
    "\n",
    "    x_center = x_sum / num_vertices\n",
    "    y_center = y_sum / num_vertices\n",
    "\n",
    "    return x_center, y_center\n",
    "\n",
    "def is_digit(string):\n",
    "    if string.isdigit():\n",
    "        return True\n",
    "    else:\n",
    "        try:\n",
    "            float(string)\n",
    "            return True\n",
    "        except ValueError:\n",
    "            return False\n",
    "\n",
    "def get_num_strings(df):\n",
    "    num_strings = []\n",
    "    for t_line in df:\n",
    "        if is_digit(t_line):\n",
    "            num_strings.append(t_line)\n",
    "    return num_strings"
   ],
   "metadata": {
    "collapsed": false,
    "ExecuteTime": {
     "start_time": "2023-08-26T20:53:45.746787Z"
    }
   }
  },
  {
   "cell_type": "markdown",
   "source": [
    "tg"
   ],
   "metadata": {
    "collapsed": false
   }
  },
  {
   "cell_type": "code",
   "execution_count": 84,
   "outputs": [],
   "source": [
    "# Нахождение названия метрики на скрине\n",
    "def get_metric_name_coord_tg(df):\n",
    "    # Выбираем строки где есть название метрик и достаем ячейку с координатами\n",
    "    t_line = df.loc[df['text'] == 'VR']['bbox']\n",
    "    if t_line.empty:\n",
    "        print('VR не найден')\n",
    "        t_line = df.loc[df['text'] == 'ERR']['bbox']\n",
    "        if t_line.empty:\n",
    "            print('ERR не найден')\n",
    "            t_line = df.loc[df['text'] == 'ER']['bbox']\n",
    "            if t_line.empty:\n",
    "                print('ER не найден')\n",
    "                return\n",
    "    # Получаем список координат названия\n",
    "    t_coord = t_line.values[0]\n",
    "    return t_coord\n",
    "\n",
    "def get_metric_from_tg(df):\n",
    "    # Нахождение название метрики на скрине\n",
    "    t_coord = get_metric_name_coord_tg(df)\n",
    "\n",
    "    # Теперь, чтобы понять какое из значений - наша метрика, будем находить центры прямоугольников с текстом\n",
    "    # и наименьшее расстояние между названием метрики и строк с процентами\n",
    "\n",
    "    center_text_x, center_text_y = find_rectangle_center(t_coord)\n",
    "\n",
    "    distance_list = []\n",
    "    text_list = []\n",
    "\n",
    "    strings_with_percent = find_strings_with_percent(df['text'])\n",
    "\n",
    "    for metric_text in strings_with_percent:\n",
    "        metric_coord = df.loc[df['text'] == metric_text]['bbox'].values[0]\n",
    "        center_x, center_y = find_rectangle_center(metric_coord)\n",
    "        distance = math.sqrt((center_text_x - center_x)**2 + (center_text_y - center_y)**2)\n",
    "        distance_list.append(distance)\n",
    "        text_list.append(metric_text)\n",
    "\n",
    "    # Находим индекc минимального расстояния и с помощью него ищем нашу метрику\n",
    "    index = distance_list.index(min(distance_list))\n",
    "    print(index)\n",
    "    print('VR =', text_list[index])\n",
    "    return text_list[index]"
   ],
   "metadata": {
    "collapsed": false,
    "ExecuteTime": {
     "end_time": "2023-08-26T20:53:45.769334Z",
     "start_time": "2023-08-26T20:53:45.749399Z"
    }
   }
  },
  {
   "cell_type": "markdown",
   "source": [
    "zn"
   ],
   "metadata": {
    "collapsed": false
   }
  },
  {
   "cell_type": "code",
   "execution_count": 85,
   "outputs": [],
   "source": [
    "def get_metric_name_coord_zn(df):\n",
    "    # Выбираем строки где есть название метрик и достаем ячейку с координатами\n",
    "    t_line = df.loc[df['text'] == 'Дочитывания']['bbox']\n",
    "    if t_line.empty:\n",
    "        print('Метрика не найдена')\n",
    "        return\n",
    "    # Получаем список координат названия\n",
    "    t_coord = t_line.values[0]\n",
    "    return t_coord\n",
    "\n",
    "def get_metric_from_zn(df):\n",
    "    # Нахождение название метрики на скрине\n",
    "    t_coord = get_metric_name_coord_zn(df)\n",
    "\n",
    "    # Теперь, чтобы понять какое из значений - наша метрика, будем находить центры прямоугольников с текстом\n",
    "    # и наименьшее расстояние между названием метрики и строк с процентами\n",
    "\n",
    "    centr_text_x, centr_text_y = find_rectangle_center(t_coord)\n",
    "\n",
    "    distance_list = []\n",
    "    text_list = []\n",
    "    num_strings = get_num_strings(df['text'])\n",
    "\n",
    "    for metric_text in num_strings:\n",
    "        metric_coord = df.loc[df['text'] == metric_text]['bbox'].values[0]\n",
    "        center_x, center_y = find_rectangle_center(metric_coord)\n",
    "        distance = math.sqrt((centr_text_x - center_x)**2 + (centr_text_y - center_y)**2)\n",
    "        distance_list.append(distance)\n",
    "        text_list.append(metric_text)\n",
    "\n",
    "    # Находим индекc минимального расстояния и с помощью него ищем нашу метрику\n",
    "    index = distance_list.index(min(distance_list))\n",
    "    return text_list[index]\n"
   ],
   "metadata": {
    "collapsed": false,
    "ExecuteTime": {
     "start_time": "2023-08-26T20:53:45.753612Z"
    }
   }
  },
  {
   "cell_type": "markdown",
   "source": [
    "yt просмотры"
   ],
   "metadata": {
    "collapsed": false
   }
  },
  {
   "cell_type": "code",
   "execution_count": 86,
   "outputs": [],
   "source": [
    "def get_metric_name_coord_yt2(df):\n",
    "    # Выбираем строку где есть название метрик и достаем ячейку с координатами\n",
    "    t_line = df.loc[df['text'] == 'Просмотры']['bbox']\n",
    "    if t_line.empty:\n",
    "        print('Метрика не найдена')\n",
    "        return\n",
    "    # Получаем список координат названия\n",
    "    t_coord = t_line.values[0]\n",
    "    return t_coord\n",
    "\n",
    "def get_matching_str_yt2(df):\n",
    "    import re\n",
    "    pattern = r\"[1-9]*,*[1-9][ ]*(млн|тыс.)*\"\n",
    "    str_l = df['text']\n",
    "    matching_strings = [s for s in str_l if re.match(pattern, s)]\n",
    "    return matching_strings\n",
    "\n",
    "def get_metric_from_yt2(df):\n",
    "    # Нахождение название метрики на скрине\n",
    "    t_coord = get_metric_name_coord_yt2(df)\n",
    "\n",
    "    # Теперь, чтобы понять какое из значений - наша метрика, будем находить центры прямоугольников с текстом\n",
    "    # и наименьшее расстояние между названием метрики и строк с процентами\n",
    "\n",
    "    center_text_x, center_text_y = find_rectangle_center(t_coord)\n",
    "    matching_strings = get_matching_str_yt2(df)\n",
    "    distance_list = []\n",
    "    text_list = []\n",
    "\n",
    "    for metric_text in matching_strings:\n",
    "        metric_coord = df.loc[df['text'] == metric_text]['bbox'].values[0]\n",
    "        center_x, center_y = find_rectangle_center(metric_coord)\n",
    "        distance = math.sqrt((center_text_x - center_x)**2 + (center_text_y - center_y)**2)\n",
    "        distance_list.append(distance)\n",
    "        text_list.append(metric_text)\n",
    "\n",
    "    # Находим индекc минимального расстояния и с помощью него ищем нашу метрику\n",
    "    index = distance_list.index(min(distance_list))\n",
    "    return text_list[index]"
   ],
   "metadata": {
    "collapsed": false,
    "ExecuteTime": {
     "start_time": "2023-08-26T20:53:45.757660Z"
    }
   }
  },
  {
   "cell_type": "markdown",
   "source": [
    "yt подпищеки"
   ],
   "metadata": {
    "collapsed": false
   }
  },
  {
   "cell_type": "code",
   "execution_count": 87,
   "outputs": [],
   "source": [
    "def get_metric_name_list_yt1(df):\n",
    "    import re\n",
    "    pattern = r\"(.)*[Пп]одписчик[аи]?(ов)?\"\n",
    "    str_l = df['text']\n",
    "    matching_strings = [s for s in str_l if re.match(pattern, s)]\n",
    "    return matching_strings\n",
    "\n",
    "def get_metric_from_yt1(df):\n",
    "    metric_text = get_metric_name_list_yt1(df)\n",
    "\n",
    "    metric_coord = df.loc[df['text'] == metric_text[0]]['bbox'].values[0]\n",
    "\n",
    "    center_text_x, center_text_y = find_rectangle_center(metric_coord)\n",
    "\n",
    "    num_strings = get_num_strings(df['text'])\n",
    "\n",
    "    distance_list = []\n",
    "    text_list = []\n",
    "\n",
    "    for metric_text in num_strings:\n",
    "        metric_coord = df.loc[df['text'] == metric_text]['bbox'].values[0]\n",
    "        center_x, center_y = find_rectangle_center(metric_coord)\n",
    "        distance = math.sqrt((center_text_x - center_x)**2 + (center_text_y - center_y)**2)\n",
    "        distance_list.append(distance)\n",
    "        text_list.append(metric_text)\n",
    "\n",
    "    # Находим индекc минимального расстояния и с помощью него ищем нашу метрику\n",
    "    index = distance_list.index(min(distance_list))\n",
    "    print(text_list[index])\n",
    "    return text_list[index]"
   ],
   "metadata": {
    "collapsed": false,
    "ExecuteTime": {
     "start_time": "2023-08-26T20:53:45.762321Z"
    }
   }
  },
  {
   "cell_type": "markdown",
   "source": [
    "vk features"
   ],
   "metadata": {
    "collapsed": false
   }
  },
  {
   "cell_type": "code",
   "execution_count": 88,
   "outputs": [],
   "source": [
    "def sum(data:dict) -> int:\n",
    "    sum = 0\n",
    "    for i in data.keys():\n",
    "        print(i)\n",
    "        sum+= data[i]\n",
    "    return sum\n",
    "\n",
    "def find(df, bbox:list) -> list:\n",
    "    \"\"\"\n",
    "    Расширяем область поиска\n",
    "    \"\"\"\n",
    "    bboxes = df.bbox.tolist()\n",
    "    text = df.text.tolist()\n",
    "    for i in range(len(bboxes)):\n",
    "\n",
    "        if (-30 < bbox[0][0] - bboxes[i][0][0] < 40) and  (0 < bbox[0][1]-bboxes[i][0][1] < 100) and text[i].isdigit():\n",
    "            print(bbox[0][0] - bboxes[i][0][0])\n",
    "            return int(text[i])\n",
    "    else:\n",
    "        return None\n",
    "\n",
    "def convert_to_dict(string: str) -> None:\n",
    "    out = string.split()\n",
    "    if len(out) == 2:\n",
    "        try:\n",
    "            out = {out[1]: int(out[0])}\n",
    "            return out\n",
    "        except:\n",
    "            pass\n",
    "\n",
    "        try:\n",
    "            out = {out[0]: int(out[1])}\n",
    "            return out\n",
    "        except:\n",
    "            return None\n",
    "\n",
    "def get_data_vk(df):\n",
    "    REGEXP = r'^[1-9]*[ ]?[Дд]ру|[чн]ик[иа(ов)]*'\n",
    "    use_to = pd.DataFrame(df['text'].str.lower())\n",
    "    use_to['bbox'] = df['bbox']\n",
    "    use_to = use_to.loc[use_to['text'].str.contains(REGEXP)]\n",
    "    tmp = use_to['text'].tolist()\n",
    "    bboxes = use_to['bbox'].tolist()\n",
    "    out = {}\n",
    "\n",
    "    for i in range(len(tmp)):\n",
    "        g = convert_to_dict(tmp[i])\n",
    "        if g:\n",
    "            out.update(g)\n",
    "        else:\n",
    "            check = find(df, bboxes[i])\n",
    "            if check:\n",
    "                out.update({tmp[i]:check})\n",
    "\n",
    "    return out"
   ],
   "metadata": {
    "collapsed": false,
    "ExecuteTime": {
     "start_time": "2023-08-26T20:53:45.765734Z"
    }
   }
  },
  {
   "cell_type": "markdown",
   "source": [
    "vk user"
   ],
   "metadata": {
    "collapsed": false
   }
  },
  {
   "cell_type": "code",
   "execution_count": 89,
   "outputs": [],
   "source": [
    "# from roboflow import Roboflow\n",
    "# import cv2 as cv\n",
    "#\n",
    "# \"\"\"\n",
    "# Содержит модель и функцию поиска имени аккаунта (или id)\n",
    "# read_name_id_vk возвращает либо имя, либо id аккаунта\n",
    "# Используется fine-tuned модель MS COCO, обученная с помощью сервиса Roboflow (нужен импорт модуля и API_KEY для доступа к ней)\n",
    "# Функция read_name_id_vk возвращает имя аккаунта либо его id (в зависимости что видно на скрине)\n",
    "# \"\"\"\n",
    "#\n",
    "# rf = Roboflow(api_key=\"fKNgN4TLK6ZSRlRHPdZZ\")\n",
    "# project = rf.workspace().project(\"hak2023_2\")\n",
    "# model = project.version(1).model\n",
    "#\n",
    "# IMG_PATH = ''\n",
    "# nums = 2\n",
    "#\n",
    "#\n",
    "# def read_name_id_vk(data:dict, img_path) -> str:\n",
    "#     \"\"\"\n",
    "#      Функция read_name_id_vk возвращает имя аккаунта либо его id (в зависимости что видно на скрине)\n",
    "#\n",
    "#     \"\"\"\n",
    "#\n",
    "#     if not data['predictions']:\n",
    "#         return\n",
    "#\n",
    "#     if data['predictions'][0]['confidence'] < 0.5:\n",
    "#         print(\"uncertainty\")\n",
    "#         return\n",
    "#\n",
    "#     bbox = data['predictions'][0]\n",
    "#     img = cv.imread(img_path)\n",
    "#\n",
    "#     x = bbox['x'] - bbox['width']//2\n",
    "#     to_x = bbox['x'] + bbox['width']//2\n",
    "#     y = bbox['y'] - bbox['height']//2\n",
    "#     to_y = bbox['y'] + bbox['height']//2\n",
    "#\n",
    "#     cropped_img = img[y: to_y, x:to_x]\n",
    "#\n",
    "#     results = reader.readtext(cropped_img)\n",
    "#     out = results[0][1]\n",
    "#     return out\n",
    "#\n",
    "#\n",
    "# if __name__ == \"__main__\":\n",
    "#     a = model.predict(IMG_PATH, confidence=40, overlap=30).json()\n",
    "#     read_name_id_vk(a, IMG_PATH)"
   ],
   "metadata": {
    "collapsed": false
   }
  },
  {
   "cell_type": "markdown",
   "source": [
    "в зависимости от выбранной платформы будем использовать подходящую функцию"
   ],
   "metadata": {
    "collapsed": false
   }
  },
  {
   "cell_type": "code",
   "execution_count": 90,
   "outputs": [],
   "source": [
    "result = pd.DataFrame(columns=[\"name\", \"target\"])\n",
    "\n",
    "if platform == platforms_dict['tg']:\n",
    "    func_processing = get_metric_from_tg\n",
    "elif platform == platforms_dict['vk']:\n",
    "    func_processing = get_data_vk\n",
    "elif platform == platforms_dict['yt1']:\n",
    "    func_processing = get_metric_from_yt1\n",
    "elif platform == platforms_dict['yt2']:\n",
    "    func_processing = get_metric_from_yt2\n",
    "elif platform == platforms_dict['zn']:\n",
    "    func_processing = get_metric_from_zn"
   ],
   "metadata": {
    "collapsed": false,
    "ExecuteTime": {
     "start_time": "2023-08-26T20:53:45.774386Z"
    }
   }
  },
  {
   "cell_type": "markdown",
   "source": [
    "обрабатываем все данные "
   ],
   "metadata": {
    "collapsed": false
   }
  },
  {
   "cell_type": "code",
   "execution_count": 91,
   "outputs": [
    {
     "data": {
      "text/plain": "                                       name target\n0  bbb2ec82-ab95-42f9-be90-58c0e35c653c.png    135\n1  8a7a366c-ae97-45ad-87c4-0f6487b8e9ba.png    636\n2  74f4b236-c1a7-45a6-b11a-2d5ab5325db3.png    100\n3  3e9053a6-c5c3-4b21-815a-fb7fdf758150.png    375\n4  0578d9d6-0353-4a1c-9fad-91e1f2d9864e.png    293",
      "text/html": "<div>\n<style scoped>\n    .dataframe tbody tr th:only-of-type {\n        vertical-align: middle;\n    }\n\n    .dataframe tbody tr th {\n        vertical-align: top;\n    }\n\n    .dataframe thead th {\n        text-align: right;\n    }\n</style>\n<table border=\"1\" class=\"dataframe\">\n  <thead>\n    <tr style=\"text-align: right;\">\n      <th></th>\n      <th>name</th>\n      <th>target</th>\n    </tr>\n  </thead>\n  <tbody>\n    <tr>\n      <th>0</th>\n      <td>bbb2ec82-ab95-42f9-be90-58c0e35c653c.png</td>\n      <td>135</td>\n    </tr>\n    <tr>\n      <th>1</th>\n      <td>8a7a366c-ae97-45ad-87c4-0f6487b8e9ba.png</td>\n      <td>636</td>\n    </tr>\n    <tr>\n      <th>2</th>\n      <td>74f4b236-c1a7-45a6-b11a-2d5ab5325db3.png</td>\n      <td>100</td>\n    </tr>\n    <tr>\n      <th>3</th>\n      <td>3e9053a6-c5c3-4b21-815a-fb7fdf758150.png</td>\n      <td>375</td>\n    </tr>\n    <tr>\n      <th>4</th>\n      <td>0578d9d6-0353-4a1c-9fad-91e1f2d9864e.png</td>\n      <td>293</td>\n    </tr>\n  </tbody>\n</table>\n</div>"
     },
     "execution_count": 91,
     "metadata": {},
     "output_type": "execute_result"
    }
   ],
   "source": [
    "for i in range(len(imgs_data)):\n",
    "    result.loc[len(result)] = {'name': imgs_data['name'][i], 'target': func_processing(imgs_data.loc[i]['data'])}\n",
    "\n",
    "result"
   ],
   "metadata": {
    "collapsed": false,
    "ExecuteTime": {
     "start_time": "2023-08-26T20:53:45.777267Z"
    }
   }
  },
  {
   "cell_type": "markdown",
   "source": [
    "(раскомм.) визуально проверить корректность обнаружения"
   ],
   "metadata": {
    "collapsed": false
   }
  },
  {
   "cell_type": "code",
   "execution_count": 92,
   "outputs": [
    {
     "data": {
      "text/plain": "<Figure size 1000x1000 with 1 Axes>",
      "image/png": "[encoded data removed]"
     },
     "metadata": {},
     "output_type": "display_data"
    }
   ],
   "source": [
    "from matplotlib.patches import Rectangle\n",
    "\n",
    "img_path = imgs_path[0]\n",
    "\n",
    "detects = reader.detect(img_path)[0][0]\n",
    "\n",
    "fig, ax = plt.subplots(figsize=(10, 10))\n",
    "ax.imshow(plt.imread(img_path))\n",
    "ax.axis('off')\n",
    "\n",
    "for i in range(len(detects)):\n",
    "    plt.gca().add_patch(Rectangle((detects[i][0],detects[i][2]),\n",
    "                                  detects[i][1] - detects[i][0],\n",
    "                                  detects[i][3] - detects[i][2],\n",
    "                                  edgecolor='red',\n",
    "                                  facecolor='none',\n",
    "                                  lw= 1 ))\n",
    "\n",
    "plt.show()"
   ],
   "metadata": {
    "collapsed": false,
    "ExecuteTime": {
     "start_time": "2023-08-26T20:53:45.779923Z"
    }
   }
  },
  {
   "cell_type": "code",
   "execution_count": 93,
   "outputs": [],
   "source": [
    "writer = pd.ExcelWriter(\"output.xlsx\")\n",
    "result.to_excel(writer)\n",
    "writer.save()"
   ],
   "metadata": {
    "collapsed": false,
    "ExecuteTime": {
     "start_time": "2023-08-26T20:53:45.782229Z"
    }
   }
  }
 ],
 "metadata": {
  "kernelspec": {
   "display_name": "Python 3",
   "language": "python",
   "name": "python3"
  },
  "language_info": {
   "codemirror_mode": {
    "name": "ipython",
    "version": 2
   },
   "file_extension": ".py",
   "mimetype": "text/x-python",
   "name": "python",
   "nbconvert_exporter": "python",
   "pygments_lexer": "ipython2",
   "version": "2.7.6"
  }
 },
 "nbformat": 4,
 "nbformat_minor": 0
}
