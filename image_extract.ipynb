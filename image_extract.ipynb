{
 "cells": [
  {
   "cell_type": "code",
   "execution_count": 2,
   "metadata": {},
   "outputs": [],
   "source": [
    "import os\n",
    "import shutil\n",
    "\n",
    "import zipfile\n",
    "from pdf2docx import Converter\n",
    "from heic2png import HEIC2PNG\n"
   ]
  },
  {
   "cell_type": "code",
   "execution_count": 3,
   "metadata": {},
   "outputs": [],
   "source": [
    "DATA = r\"C:\\Users\\caretaker\\Documents\\hakaton\\Data\"\n",
    "SITES = ['vk', 'tg', 'yt', 'zn']"
   ]
  },
  {
   "cell_type": "code",
   "execution_count": 34,
   "metadata": {},
   "outputs": [],
   "source": [
    "def extract_docx(path_to_dir, file_name):\n",
    "    \"\"\"\n",
    "   в зип и из зипа вырезать вытащить jpg\n",
    "    \"\"\"\n",
    "    archive = zipfile.ZipFile(path_to_dir + '\\\\' + file_name +\".docx\")\n",
    "    path_d = os.path.join(path_to_dir, file_name)\n",
    "    for file in archive.filelist:\n",
    "        if file.filename.startswith('word/media/'):\n",
    "            archive.extract(file, path=path_d) \n",
    "            os.replace(os.path.join(path_d,\"word\\\\media\", file.filename[11:]), os.path.join(path_to_dir, file_name + file.filename[11:]))\n",
    "    shutil.rmtree(path_d)\n",
    "    \n",
    "\n",
    "def extract_zip(path_to_dir, file_name):\n",
    "    with zipfile.ZipFile(path_to_dir + '\\\\' + file_name+\".zip\", 'r') as zip_ref:\n",
    "       zip_ref.extractall(DATA)\n",
    "   \n",
    "\n",
    "def extract_pdf(path_to_dir, file_name):\n",
    "    \"\"\"\n",
    "    в докх и вызвать функцию для докх\n",
    "    \"\"\"\n",
    "    cv = Converter(path_to_dir + \"\\\\\" + file_name + '.pdf')\n",
    "    cv.convert(path_to_dir + \"\\\\\" + file_name +'.docx', start=0, end=None)\n",
    "    cv.close()\n",
    "\n",
    "    extract_docx(path_to_dir, file_name)\n",
    "    os.remove(os.path.join(path_to_dir, file_name + \".docx\"))\n",
    "\n",
    "\n",
    "def convert_heic(path_to_dir, file_name):\n",
    "    print(os.path.join(path_to_dir, file_name + '.heic'))\n",
    "    heic_img = HEIC2PNG(os.path.join(path_to_dir, file_name + '.heic'))\n",
    "    heic_img.save()\n",
    "    \n",
    "    \n",
    "def extract_pptx(path_to_dir, file_name):\n",
    "    \"\"\"\n",
    "   в зип и из зипа вырезать вытащить jpg\n",
    "    \"\"\"\n",
    "    archive = zipfile.ZipFile(path_to_dir + '\\\\' + file_name +\".pptx\")\n",
    "    path_d = os.path.join(path_to_dir, file_name)\n",
    "    \n",
    "    for file in archive.filelist:\n",
    "        print(file)\n",
    "        if file.filename.startswith('ppt/media/'):\n",
    "            archive.extract(file, path=path_d) \n",
    "            os.replace(os.path.join(path_d,\"ppt\\\\media\", file.filename[10:]), os.path.join(path_to_dir, file_name + file.filename[10:]))\n",
    "    shutil.rmtree(path_d)\n",
    "           \n",
    "    \n",
    "\n",
    "extract_func = {\".pdf\":extract_pdf, '.docx':extract_docx, '.zip':extract_zip, '.heic': convert_heic, '.pptx': extract_pptx}"
   ]
  },
  {
   "cell_type": "code",
   "execution_count": 36,
   "metadata": {},
   "outputs": [
    {
     "name": "stdout",
     "output_type": "stream",
     "text": [
      "<ZipInfo filename='[Content_Types].xml' compress_type=deflate file_size=3192 compress_size=437>\n",
      "<ZipInfo filename='_rels/.rels' compress_type=deflate file_size=738 compress_size=259>\n",
      "<ZipInfo filename='ppt/slides/_rels/slide1.xml.rels' compress_type=deflate file_size=581 compress_size=223>\n",
      "<ZipInfo filename='ppt/slides/slide1.xml' compress_type=deflate file_size=1991 compress_size=760>\n",
      "<ZipInfo filename='ppt/presentation.xml' compress_type=deflate file_size=3212 compress_size=553>\n",
      "<ZipInfo filename='ppt/_rels/presentation.xml.rels' compress_type=deflate file_size=976 compress_size=268>\n",
      "<ZipInfo filename='ppt/slideMasters/slideMaster1.xml' compress_type=deflate file_size=13931 compress_size=2072>\n",
      "<ZipInfo filename='ppt/slideLayouts/_rels/slideLayout2.xml.rels' compress_type=deflate file_size=311 compress_size=188>\n",
      "<ZipInfo filename='ppt/slideLayouts/_rels/slideLayout1.xml.rels' compress_type=deflate file_size=311 compress_size=188>\n",
      "<ZipInfo filename='ppt/slideLayouts/slideLayout11.xml' compress_type=deflate file_size=4256 compress_size=1194>\n",
      "<ZipInfo filename='ppt/slideMasters/_rels/slideMaster1.xml.rels' compress_type=deflate file_size=1991 compress_size=277>\n",
      "<ZipInfo filename='ppt/slideLayouts/slideLayout1.xml' compress_type=deflate file_size=4733 compress_size=1285>\n",
      "<ZipInfo filename='ppt/slideLayouts/slideLayout2.xml' compress_type=deflate file_size=3977 compress_size=1115>\n",
      "<ZipInfo filename='ppt/slideLayouts/slideLayout3.xml' compress_type=deflate file_size=5470 compress_size=1349>\n",
      "<ZipInfo filename='ppt/slideLayouts/slideLayout4.xml' compress_type=deflate file_size=5059 compress_size=1210>\n",
      "<ZipInfo filename='ppt/slideLayouts/slideLayout5.xml' compress_type=deflate file_size=8022 compress_size=1561>\n",
      "<ZipInfo filename='ppt/slideLayouts/slideLayout6.xml' compress_type=deflate file_size=3092 compress_size=988>\n",
      "<ZipInfo filename='ppt/slideLayouts/slideLayout7.xml' compress_type=deflate file_size=2550 compress_size=903>\n",
      "<ZipInfo filename='ppt/slideLayouts/slideLayout8.xml' compress_type=deflate file_size=6008 compress_size=1464>\n",
      "<ZipInfo filename='ppt/slideLayouts/slideLayout9.xml' compress_type=deflate file_size=5927 compress_size=1418>\n",
      "<ZipInfo filename='ppt/slideLayouts/slideLayout10.xml' compress_type=deflate file_size=4032 compress_size=1141>\n",
      "<ZipInfo filename='ppt/slideLayouts/_rels/slideLayout3.xml.rels' compress_type=deflate file_size=311 compress_size=188>\n",
      "<ZipInfo filename='ppt/slideLayouts/_rels/slideLayout4.xml.rels' compress_type=deflate file_size=311 compress_size=188>\n",
      "<ZipInfo filename='ppt/slideLayouts/_rels/slideLayout5.xml.rels' compress_type=deflate file_size=311 compress_size=188>\n",
      "<ZipInfo filename='ppt/slideLayouts/_rels/slideLayout6.xml.rels' compress_type=deflate file_size=311 compress_size=188>\n",
      "<ZipInfo filename='ppt/slideLayouts/_rels/slideLayout7.xml.rels' compress_type=deflate file_size=311 compress_size=188>\n",
      "<ZipInfo filename='ppt/slideLayouts/_rels/slideLayout8.xml.rels' compress_type=deflate file_size=311 compress_size=188>\n",
      "<ZipInfo filename='ppt/slideLayouts/_rels/slideLayout9.xml.rels' compress_type=deflate file_size=311 compress_size=188>\n",
      "<ZipInfo filename='ppt/slideLayouts/_rels/slideLayout10.xml.rels' compress_type=deflate file_size=311 compress_size=188>\n",
      "<ZipInfo filename='ppt/slideLayouts/_rels/slideLayout11.xml.rels' compress_type=deflate file_size=311 compress_size=188>\n",
      "<ZipInfo filename='ppt/media/image2.png' file_size=183537>\n",
      "<ZipInfo filename='ppt/media/image1.png' file_size=178883>\n",
      "<ZipInfo filename='docProps/thumbnail.jpeg' file_size=7498>\n",
      "<ZipInfo filename='ppt/theme/theme1.xml' compress_type=deflate file_size=8399 compress_size=1732>\n",
      "<ZipInfo filename='ppt/viewProps.xml' compress_type=deflate file_size=810 compress_size=387>\n",
      "<ZipInfo filename='ppt/presProps.xml' compress_type=deflate file_size=818 compress_size=397>\n",
      "<ZipInfo filename='ppt/tableStyles.xml' compress_type=deflate file_size=182 compress_size=172>\n",
      "<ZipInfo filename='docProps/core.xml' compress_type=deflate file_size=701 compress_size=361>\n",
      "<ZipInfo filename='docProps/app.xml' compress_type=deflate file_size=1299 compress_size=519>\n"
     ]
    },
    {
     "ename": "PermissionError",
     "evalue": "[WinError 32] Процесс не может получить доступ к файлу, так как этот файл занят другим процессом: 'C:\\\\Users\\\\caretaker\\\\Documents\\\\hakaton\\\\Data\\\\tg\\\\images\\\\12d3a4a1-005b-481c-ab67-7e0f68321ac0.pptx'",
     "output_type": "error",
     "traceback": [
      "\u001b[1;31m---------------------------------------------------------------------------\u001b[0m",
      "\u001b[1;31mPermissionError\u001b[0m                           Traceback (most recent call last)",
      "Cell \u001b[1;32mIn[36], line 14\u001b[0m\n\u001b[0;32m     11\u001b[0m                         extract_func[file_type](\u001b[39mdir\u001b[39m, file_name)\n\u001b[0;32m     12\u001b[0m                         os\u001b[39m.\u001b[39mremove(\u001b[39mdir\u001b[39m \u001b[39m+\u001b[39m \u001b[39m'\u001b[39m\u001b[39m\\\\\u001b[39;00m\u001b[39m'\u001b[39m \u001b[39m+\u001b[39m file_name \u001b[39m+\u001b[39m file_type)\n\u001b[1;32m---> 14\u001b[0m get_images(DATA)\n",
      "Cell \u001b[1;32mIn[36], line 12\u001b[0m, in \u001b[0;36mget_images\u001b[1;34m(DATA)\u001b[0m\n\u001b[0;32m     10\u001b[0m \u001b[39mif\u001b[39;00m file_type \u001b[39min\u001b[39;00m extract_func:\n\u001b[0;32m     11\u001b[0m     extract_func[file_type](\u001b[39mdir\u001b[39m, file_name)\n\u001b[1;32m---> 12\u001b[0m     os\u001b[39m.\u001b[39;49mremove(\u001b[39mdir\u001b[39;49m \u001b[39m+\u001b[39;49m \u001b[39m'\u001b[39;49m\u001b[39m\\\\\u001b[39;49;00m\u001b[39m'\u001b[39;49m \u001b[39m+\u001b[39;49m file_name \u001b[39m+\u001b[39;49m file_type)\n",
      "\u001b[1;31mPermissionError\u001b[0m: [WinError 32] Процесс не может получить доступ к файлу, так как этот файл занят другим процессом: 'C:\\\\Users\\\\caretaker\\\\Documents\\\\hakaton\\\\Data\\\\tg\\\\images\\\\12d3a4a1-005b-481c-ab67-7e0f68321ac0.pptx'"
     ]
    }
   ],
   "source": [
    "def get_images(DATA):\n",
    "    for site in SITES:\n",
    "        dir = os.path.join(DATA, site)\n",
    "        for file in os.listdir(dir):\n",
    "            dir = os.path.join(dir, file)\n",
    "            if os.path.isdir(dir):\n",
    "                \n",
    "                for file in os.listdir(dir):  \n",
    "                    file_name, file_type = os.path.splitext(file)\n",
    "                    if file_type in extract_func:\n",
    "                        extract_func[file_type](dir, file_name)\n",
    "                        os.remove(dir + '\\\\' + file_name + file_type)\n",
    "                        \n",
    "get_images(DATA)"
   ]
  },
  {
   "cell_type": "code",
   "execution_count": 44,
   "metadata": {},
   "outputs": [
    {
     "ename": "PermissionError",
     "evalue": "[WinError 32] Процесс не может получить доступ к файлу, так как этот файл занят другим процессом: 'C:\\\\Users\\\\caretaker\\\\Documents\\\\hakaton\\\\Data\\\\vk\\\\images\\\\014db9f7-b32d-4eae-a9cd-216f57b3a0f7.docx'",
     "output_type": "error",
     "traceback": [
      "\u001b[1;31m---------------------------------------------------------------------------\u001b[0m",
      "\u001b[1;31mPermissionError\u001b[0m                           Traceback (most recent call last)",
      "Cell \u001b[1;32mIn[44], line 9\u001b[0m\n\u001b[0;32m      7\u001b[0m file_name, file_type \u001b[39m=\u001b[39m os\u001b[39m.\u001b[39mpath\u001b[39m.\u001b[39msplitext(file)\n\u001b[0;32m      8\u001b[0m \u001b[39mif\u001b[39;00m file_type \u001b[39min\u001b[39;00m [\u001b[39m'\u001b[39m\u001b[39m.docx\u001b[39m\u001b[39m'\u001b[39m, \u001b[39m'\u001b[39m\u001b[39m.zip\u001b[39m\u001b[39m'\u001b[39m, \u001b[39m'\u001b[39m\u001b[39m.pdf\u001b[39m\u001b[39m'\u001b[39m]:\n\u001b[1;32m----> 9\u001b[0m     os\u001b[39m.\u001b[39;49mremove(os\u001b[39m.\u001b[39;49mpath\u001b[39m.\u001b[39;49mjoin(\u001b[39mdir\u001b[39;49m, file_name \u001b[39m+\u001b[39;49m file_type))\n",
      "\u001b[1;31mPermissionError\u001b[0m: [WinError 32] Процесс не может получить доступ к файлу, так как этот файл занят другим процессом: 'C:\\\\Users\\\\caretaker\\\\Documents\\\\hakaton\\\\Data\\\\vk\\\\images\\\\014db9f7-b32d-4eae-a9cd-216f57b3a0f7.docx'"
     ]
    }
   ],
   "source": [
    "\n",
    "    "
   ]
  }
 ],
 "metadata": {
  "kernelspec": {
   "display_name": "hakaton",
   "language": "python",
   "name": "python3"
  },
  "language_info": {
   "codemirror_mode": {
    "name": "ipython",
    "version": 3
   },
   "file_extension": ".py",
   "mimetype": "text/x-python",
   "name": "python",
   "nbconvert_exporter": "python",
   "pygments_lexer": "ipython3",
   "version": "3.10.4"
  },
  "orig_nbformat": 4
 },
 "nbformat": 4,
 "nbformat_minor": 2
}
