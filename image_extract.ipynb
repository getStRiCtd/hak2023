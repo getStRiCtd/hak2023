{
 "cells": [
  {
   "cell_type": "code",
   "execution_count": 1,
   "metadata": {},
   "outputs": [],
   "source": [
    "import os\n",
    "import shutil\n",
    "\n",
    "import zipfile\n",
    "from pdf2docx import Converter\n",
    "from heic2png import HEIC2PNG\n",
    "from PIL import Image"
   ]
  },
  {
   "cell_type": "code",
   "execution_count": 2,
   "metadata": {},
   "outputs": [],
   "source": [
    "DATA = r\"C:\\Users\\caretaker\\Documents\\hakaton\\hak2023\\Data\"\n",
    "SITES = ['vk', 'tg', 'yt', 'zn']"
   ]
  },
  {
   "cell_type": "code",
   "execution_count": 14,
   "metadata": {},
   "outputs": [],
   "source": [
    "def extract_docx(path_to_dir, file_name, file_type='.docx'):\n",
    "    \"\"\"\n",
    "   в зип и из зипа вырезать вытащить jpg\n",
    "    \"\"\"\n",
    "    archive = zipfile.ZipFile(path_to_dir + '\\\\' + file_name +file_type)\n",
    "    path_d = os.path.join(path_to_dir, file_name)\n",
    "    for file in archive.filelist:\n",
    "        if file.filename.startswith('word/media/'):\n",
    "            archive.extract(file, path=path_d) \n",
    "            os.replace(os.path.join(path_d,\"word\\\\media\", file.filename[11:]), os.path.join(path_to_dir, file_name + file.filename[11:]))\n",
    "    shutil.rmtree(path_d)\n",
    "    \n",
    "\n",
    "def extract_zip(path_to_dir, file_name, file_type='.zip'):\n",
    "    with zipfile.ZipFile(path_to_dir + '\\\\' + file_name+file_type, 'r') as zip_ref:\n",
    "       zip_ref.extractall(DATA)\n",
    "   \n",
    "\n",
    "def extract_pdf(path_to_dir, file_name, file_type='.pdf'):\n",
    "    \"\"\"\n",
    "    в докх и вызвать функцию для докх\n",
    "    \"\"\"\n",
    "    cv = Converter(path_to_dir + \"\\\\\" + file_name + file_type)\n",
    "    cv.convert(path_to_dir + \"\\\\\" + file_name +'.docx', start=0, end=None)\n",
    "    cv.close()\n",
    "\n",
    "    extract_docx(path_to_dir, file_name)\n",
    "    os.remove(os.path.join(path_to_dir, file_name + \".docx\"))\n",
    "\n",
    "\n",
    "def convert_heic(path_to_dir, file_name, file_type='.heic'):\n",
    "    print(os.path.join(path_to_dir, file_name + file_type))\n",
    "    heic_img = HEIC2PNG(os.path.join(path_to_dir, file_name + file_type))\n",
    "    heic_img.save()\n",
    "    \n",
    "    \n",
    "def extract_pptx(path_to_dir, file_name, file_type='.pptx'):\n",
    "    \"\"\"\n",
    "   в зип и из зипа вырезать вытащить jpg\n",
    "    \"\"\"\n",
    "    archive = zipfile.ZipFile(path_to_dir + '\\\\' + file_name +\".pptx\")\n",
    "    path_d = os.path.join(path_to_dir, file_name)\n",
    "    \n",
    "    for file in archive.filelist:\n",
    "        print(file)\n",
    "        if file.filename.startswith('ppt/media/'):\n",
    "            archive.extract(file, path=path_d) \n",
    "            os.replace(os.path.join(path_d,\"ppt\\\\media\", file.filename[10:]), os.path.join(path_to_dir, file_name + file.filename[10:]))\n",
    "    shutil.rmtree(path_d)\n",
    "           \n",
    "    \n",
    "def other_to_png(path_to_dir, file_name, file_type='hz'):\n",
    "    Image.open(os.path.join(path_to_dir, file_name + file_type)).save(os.path.join(path_to_dir, file_name + '.png'))\n",
    "\n",
    "\n",
    "extract_func = {\".pdf\":extract_pdf, '.docx':extract_docx, '.zip':extract_zip, '.heic': convert_heic, '.pptx': extract_pptx,\n",
    "                \".bmp\":other_to_png, '.jfif':other_to_png}"
   ]
  },
  {
   "cell_type": "code",
   "execution_count": 16,
   "metadata": {},
   "outputs": [],
   "source": [
    "def get_images(DATA):\n",
    "    for site in SITES:\n",
    "        dir = os.path.join(DATA, site)\n",
    "        for file in os.listdir(dir):\n",
    "            dir = os.path.join(dir, file)\n",
    "            if os.path.isdir(dir):\n",
    "                \n",
    "                for file in os.listdir(dir):  \n",
    "                    file_name, file_type = os.path.splitext(file)\n",
    "                    if file_type in extract_func:\n",
    "                        print(file_name)\n",
    "                        extract_func[file_type](dir, file_name, file_type)\n",
    "                        os.remove(dir + '\\\\' + file_name + file_type)\n",
    "                        \n",
    "get_images(DATA)"
   ]
  },
  {
   "cell_type": "code",
   "execution_count": 44,
   "metadata": {},
   "outputs": [
    {
     "ename": "PermissionError",
     "evalue": "[WinError 32] Процесс не может получить доступ к файлу, так как этот файл занят другим процессом: 'C:\\\\Users\\\\caretaker\\\\Documents\\\\hakaton\\\\Data\\\\vk\\\\images\\\\014db9f7-b32d-4eae-a9cd-216f57b3a0f7.docx'",
     "output_type": "error",
     "traceback": [
      "\u001b[1;31m---------------------------------------------------------------------------\u001b[0m",
      "\u001b[1;31mPermissionError\u001b[0m                           Traceback (most recent call last)",
      "Cell \u001b[1;32mIn[44], line 9\u001b[0m\n\u001b[0;32m      7\u001b[0m file_name, file_type \u001b[39m=\u001b[39m os\u001b[39m.\u001b[39mpath\u001b[39m.\u001b[39msplitext(file)\n\u001b[0;32m      8\u001b[0m \u001b[39mif\u001b[39;00m file_type \u001b[39min\u001b[39;00m [\u001b[39m'\u001b[39m\u001b[39m.docx\u001b[39m\u001b[39m'\u001b[39m, \u001b[39m'\u001b[39m\u001b[39m.zip\u001b[39m\u001b[39m'\u001b[39m, \u001b[39m'\u001b[39m\u001b[39m.pdf\u001b[39m\u001b[39m'\u001b[39m]:\n\u001b[1;32m----> 9\u001b[0m     os\u001b[39m.\u001b[39;49mremove(os\u001b[39m.\u001b[39;49mpath\u001b[39m.\u001b[39;49mjoin(\u001b[39mdir\u001b[39;49m, file_name \u001b[39m+\u001b[39;49m file_type))\n",
      "\u001b[1;31mPermissionError\u001b[0m: [WinError 32] Процесс не может получить доступ к файлу, так как этот файл занят другим процессом: 'C:\\\\Users\\\\caretaker\\\\Documents\\\\hakaton\\\\Data\\\\vk\\\\images\\\\014db9f7-b32d-4eae-a9cd-216f57b3a0f7.docx'"
     ]
    }
   ],
   "source": [
    "\n",
    "    "
   ]
  }
 ],
 "metadata": {
  "kernelspec": {
   "display_name": "hakaton",
   "language": "python",
   "name": "python3"
  },
  "language_info": {
   "codemirror_mode": {
    "name": "ipython",
    "version": 3
   },
   "file_extension": ".py",
   "mimetype": "text/x-python",
   "name": "python",
   "nbconvert_exporter": "python",
   "pygments_lexer": "ipython3",
   "version": "3.10.4"
  },
  "orig_nbformat": 4
 },
 "nbformat": 4,
 "nbformat_minor": 2
}
